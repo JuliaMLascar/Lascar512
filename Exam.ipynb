{
 "cells": [
  {
   "cell_type": "markdown",
   "metadata": {},
   "source": [
    "<center><u><b>FINAL EXAM<b></u>\n",
    "<center>Phys520 — 2019\n",
    "<center>Julia Lascar"
   ]
  },
  {
   "cell_type": "markdown",
   "metadata": {},
   "source": [
    "### Question 1"
   ]
  },
  {
   "cell_type": "markdown",
   "metadata": {},
   "source": [
    "In this problem, we will work out when it is faster to use Fourier-based techniques in n−body simulations instead of directly summing forces be- tween each pair of particles.\n",
    "- - -\n",
    "<b>A)</b> First, we will work out how long it will take to calculate gravity by Fourier transforming a grid. If we have a 3-dimensional grid with m cells along each side, how many total cells do we have?\n",
    "- - -"
   ]
  },
  {
   "cell_type": "markdown",
   "metadata": {},
   "source": [
    "We have a total cell count of $M=m \\times m \\times m = m^3$"
   ]
  },
  {
   "cell_type": "markdown",
   "metadata": {},
   "source": [
    "- - -\n",
    "<b>B)</b> Roughly how many operations will we need to carry out to do the Fourier transform? I don’t care about the coefficient, but I do care about the scaling with m. We will assume (usually justifiably so) that the work for the mesh is dominated by the FFTs. Let the run time equal a times this operation count.\n",
    "- - -"
   ]
  },
  {
   "cell_type": "markdown",
   "metadata": {},
   "source": [
    "When doing a fast fourier transform, we get a runtime of O(xlogx), and in this case we are transforming the density $\\rho = \\frac{N}{M}=\\frac{N}{m^3}$, (where N is the number of particles) so the runtime R becomes:\n",
    "\n",
    "$R \\approx a \\frac{N}{m^3} log(\\frac{N}{m^3})$"
   ]
  },
  {
   "cell_type": "markdown",
   "metadata": {},
   "source": [
    "- - -\n",
    "<b>C)</b> If we instead calculate the forces between every pair of particles, how many operations do we need to do for n particles? Again, the scaling with n needs to be correct but don’t sweat the coefficient. Let the run time equal b times the operation count (so, if the operation count scaled like n to the first power, our run time would be bn.)\n",
    "- - -"
   ]
  },
  {
   "cell_type": "markdown",
   "metadata": {},
   "source": [
    "The number of unique pairs in a commutative set is $\\frac{N(N-1)}{2}$. This can be proven by considering that a particle $n_0$ can form $(N-1)$ pairs, then $n_1$ can form $(N-2)$ pairs (not repeating the pair with $n_1$), and so on such that we have:\n",
    "\n",
    "$N_{pairs}=(N-1)+(N-2)+ ... +(N-(N-1)=1+2+...+(N-2)+(N-1)$\n",
    "\n",
    "$2N_{pairs}=(N-1)+(N-2+1)+(N-3+2)+...+(1+N-2)+(N-1)=N(N-1)$\n",
    "\n",
    "$N_{pairs}=\\frac{N(N-1)}{2}$\n",
    "\n",
    "So, our operation count will be:\n",
    "\n",
    "$R \\approx b\\frac{N(N-1)}{2}$"
   ]
  },
  {
   "cell_type": "markdown",
   "metadata": {},
   "source": [
    "- - -\n",
    "<b>D)</b> Given the scalings from the previous questions, what is the critical value for m at which the grid-based and brute-force techniques take the same run time? In practice, though hard to predict, the coefficients a and b will be of similar magnitude, and easy to measure with quick timing runs. Note - if you get a transcendental equation, feel free to treat the logarithm of m as a constant. In practice, you can pick a starting value for the log, solve for m keeping that fixed, then repeat using your updated values of m in the log. This converges extremely quickly.\n",
    "- - -"
   ]
  },
  {
   "cell_type": "markdown",
   "metadata": {},
   "source": [
    "The critical value is reached when: \n",
    "\n",
    "$R_{grid}=R_{brute}$\n",
    "\n",
    "$a \\frac{N}{m^3} log(\\frac{N}{m^3}) =b\\frac{N(N-1)}{2}$\n",
    "\n",
    "Since we view a and b to be of similar magnitude, they cancel each other out (b/a=1). Then:\n",
    "\n",
    "$\\frac{N}{m^3} \\big(log(N)-log(m^3)\\big) =\\frac{N(N-1)}{2}$\n",
    "\n",
    "$log(N)-3log(m) =\\frac{m^3(N-1)}{2}$\n",
    "\n",
    "We want to isolate m, but we remember that we treat log(m) as a constant, so:\n",
    "\n",
    "$m^3=\\frac{2(log(N)-3log(m))}{(N-1)}$\n",
    "\n",
    "$m=\\Big(\\frac{2log(N/m^3)}{(N-1)}\\Big)^{1/3}$"
   ]
  },
  {
   "cell_type": "markdown",
   "metadata": {},
   "source": [
    "- - -\n",
    "<b>E)</b> Interpret your answer to part D) and write down a rule of thumb for when a grid will be faster than brute-force in three dimensions. For instance, one possible answer would be “a grid will be faster when there are many particles in each 3-dimensional grid cell, and slower when the average number of particles per cell is much less than one.” This may or may not be correct, but your answer should look something like that. There are many possible answers, but one useful one is to express the average number of particles per cell in terms of the total number of particles plus numerical constants.\n",
    "- - -"
   ]
  },
  {
   "cell_type": "markdown",
   "metadata": {},
   "source": [
    "A grid will be faster than brute force when: \n",
    "\n",
    "$R_{grid} < R_{brute}$\n",
    "\n",
    "$\\frac{N}{m^3} log(\\frac{N}{m^3}) < \\frac{N(N-1)}{2}$\n",
    "\n",
    "$log(\\frac{N}{m^3}) < \\frac{m^3(N-1)}{2}$\n",
    "\n",
    "$log(\\frac{N}{m^3})\\frac{2}{(N-1)} < m^3$\n",
    "\n",
    "$(N-1)\\big(2log(\\frac{N}{m^3})\\big)^{-1} > 1/m^3$\n",
    "\n",
    "$N(N-1)\\big(2log(\\frac{N}{m^3})\\big)^{-1} > N/m^3$\n",
    "\n",
    "$N(N-1)log(\\rho) > \\rho$\n",
    "\n",
    "When the average number of particles per cell is much lower than one, $log(\\rho)$ will be negative and so this will necessarily be false since $\\rho$ and N(N-1) are positive. Thus, our rule of thumb can be: \"A grid will be faster when the density of particles is high.\" "
   ]
  },
  {
   "cell_type": "markdown",
   "metadata": {},
   "source": [
    "### Question 2"
   ]
  },
  {
   "cell_type": "markdown",
   "metadata": {},
   "source": [
    "We saw in class that the incompressible advection equation \n",
    "\n",
    "\n",
    "<center>$∂ρ/∂t + u · ∇ρ = 0$\n",
    "\n",
    "became unconditionally unstable when we used a first-order derivative for t and a second-order derivative for ρ.\n",
    "- - -\n",
    "<b>A)</b> This scheme, the so-called forward time, centered space or FTCS, has\n",
    "\n",
    "\n",
    "<center>$ρ(t + δt, x) = ρ(t, x) − uδt (ρ(t, x + δx) − ρ(t, x − δx))/2δx$\n",
    "\n",
    "By plugging in complex exponentials, show that this scheme is indeed numerically unstable.\n",
    "- - -"
   ]
  },
  {
   "cell_type": "markdown",
   "metadata": {},
   "source": [
    "We plug in complex exponentials: $\\rho(x,t)=A(t)e^{ikx}$\n",
    "\n",
    "$A(t+\\delta t)e^{ikx}=A(t)e^{ikx}-u\\frac{\\delta t}{\\delta x}A(t)(e^{ik(x+\\delta x)}-e^{ik(x-\\delta x)})/2$\n",
    "\n",
    "$\\frac{A(t+\\delta t)}{A(t)}e^{ikx}=e^{ikx}-u\\frac{\\delta t}{\\delta x}\\big(e^{ikx}(e^{ik\\delta x)}-e^{-ik\\delta x)})\\big)/2$\n",
    "\n",
    "$\\frac{A(t+\\delta t)}{A(t)}=1-u\\frac{\\delta t}{\\delta x}(e^{ik\\delta x)}-e^{-ik\\delta x)})/2$\n",
    "\n",
    "We remember that from Euler's formula: \n",
    "$e^{ix}=cos(x)+isin(x)$\n",
    "\n",
    "$isin(x)=(e^{ix)-e^{-ix})/2$\n",
    "\n",
    "So: \n",
    "\n",
    "$\\frac{A(t+\\delta t)}{A(t)}=1-u\\frac{\\delta t}{\\delta x}isin(k\\delta x)$\n",
    "\n",
    "$|\\frac{A(t+\\delta t)}{A(t)}|= \\sqrt{1 + \\big(u\\frac{\\delta t}{\\delta x}sin(k\\delta x)\\big)^2}$\n",
    "\n",
    "So $|\\frac{A(t+\\delta t)}{A(t)}| \\geq 1$, meaning that the solution will never converge — i.e. it is unstable."
   ]
  },
  {
   "cell_type": "markdown",
   "metadata": {},
   "source": [
    "- - -\n",
    "<b>B)</b> We also claimed (and saw in practice) that the Lax version of this was stable. The Lax solution uses $ρ(t,x+δx)+ρ(t,x−δx)/2$ in place of ρ(t, x) in the right-hand side. Derive the stability constraint for this Lax solution.\n",
    "- - -"
   ]
  },
  {
   "cell_type": "markdown",
   "metadata": {},
   "source": [
    "Our equation becomes:\n",
    "\n",
    "$ρ(t + δt, x) = ρ(t,x+δx)+ρ(t,x−δx)/2 − uδt (ρ(t, x + δx) − ρ(t, x − δx))/2δx$\n",
    "\n",
    "Replacing with complex exponentials in the same fashion as in A) and remembering that cos(x)=(e^{ix)+e^{-ix})/2: \n",
    "\n",
    "$\\frac{A(t+\\delta t)}{A(t)}=cos(k\\delta x)-iu\\frac{\\delta t}{\\delta x}sin(k\\delta x)$\n",
    "\n",
    "So $|\\frac{A(t+\\delta t)}{A(t)}|=\\sqrt{cos^2(k\\delta x) + \\big(u\\frac{\\delta t}{\\delta x}sin(k\\delta x)\\big)^2}$\n",
    "\n",
    "Since $cos^2(k\\delta x) \\leq 1$ and $sin^2(k\\delta x) \\leq 1$, \n",
    "\n",
    "$|\\frac{A(t+\\delta t)}{A(t)}|\\leq 1$ if $(u\\frac{\\delta t}{\\delta x})^2\\leq 1$\n",
    "\n",
    "So the stability constraint of the Lax solution is: \n",
    "\n",
    "$\\delta t \\leq \\frac{\\delta x}{u}$\n"
   ]
  },
  {
   "cell_type": "markdown",
   "metadata": {},
   "source": [
    "### Question 3"
   ]
  },
  {
   "cell_type": "markdown",
   "metadata": {},
   "source": [
    "One way we saw in class to generate weights for arbitrary order numerical integration was to use Legendre polynomials and, after inverting a matrix, take the coefficients that go into the P0 term. Another way is to fit a normal $x, x^2, x^3$...) polynomial to data points, then integrate to get the area under each term in the polynomial, and add together to get the integration weights. We will do this by working out the area under a polynomial defined by n points evenly spaced from -1 to 1. In this problem, we will derive the integration weights for arbitrary order using standard polynomial fits.\n",
    "- - -\n",
    "<b>A)</b> What is the integral of $x^k$ from x= −1 to 1 as a function of k? We will refer to this area as $a_k$. If we have n points, k will go from zero to n−1. Explain why we will in general select n to be odd?\n",
    "- - -"
   ]
  },
  {
   "cell_type": "markdown",
   "metadata": {},
   "source": [
    "$\\int_{-1}^1 x^k = \\Big[\\frac{1}{k+1}x^{k+1}\\Big]^1_{-1}=\\big(\\frac{1}{k+1}\\big)-\\big(\\frac{(-1)^{k+1}}{k+1}\\big)$\n",
    "\n",
    "$\\int_{-1}^1 x^k = 0$ if k is odd, \n",
    "$\\frac{2}{(k+1)}$ if k is even. \n",
    "\n",
    "Selecting n to be odd means that n-1 will be even, and thus we'll have a non-zero solution. "
   ]
  },
  {
   "cell_type": "markdown",
   "metadata": {},
   "source": [
    "- - -\n",
    "<b>B)</b> Show that the least-squares equations reduce to $m = A^{−1}d$ for the special case that A is square and invertible.\n",
    "- - -"
   ]
  },
  {
   "cell_type": "markdown",
   "metadata": {},
   "source": [
    "We know that $\\chi^2 = \\frac{\\sum (x_i - \\mu_i)^2}{\\sigma_i^2}$\n",
    "\n",
    "Then $\\chi^2 = (d-\\mu)^T N^{-1}(d-\\mu)$ where d is our data and $\\mu$ is our model.\n",
    "\n",
    "$\\mu_i=\\sum_j A_{ij}m_j$ or $\\mu=Am$ where A is a matrix of polynomials evaluated at x while m is the vector with coefficients. \n",
    "\n",
    "$\\chi^2 =(d-Am)^TN^{-1}(d-Am)$\n",
    "\n",
    "$\\frac{d\\chi^2}{dm}=0$ to minimize $\\chi^2$\n",
    "\n",
    "$\\frac{d\\chi^2}{dm}=-A^TN^{-1}(d-Am)-(d-Am)^TN^{1}A=-2A^TN^{-1}(d-Am)=0$\n",
    "\n",
    "$A^TN^{-1}(d-Am)=0$\n",
    "\n",
    "$A^TN^{-1}d-A^TN^{-1}Am=0$\n",
    "\n",
    "$A^TN^{-1}d=A^TN^{-1}Am$\n",
    "\n",
    "Since A is inversible: $A^{-1}A^TN^{-1}d=A^{-1}A^TN^{-1}Am$ \n",
    "\n",
    "$(AA^{-1})^TN^{-1}d=(AA^{-1})^TN^{-1}Am$ \n",
    "\n",
    "$N^{-1}d=N^{-1}Am$ \n",
    "\n",
    "$NN^{-1}d=NN^{-1}Am$ \n",
    "\n",
    "$d=Am$, or $m=A^{-1}m$ "
   ]
  },
  {
   "cell_type": "markdown",
   "metadata": {},
   "source": [
    "- - -\n",
    "<b>C)</b> The area under the curve defined by n points can now be expressed as the sum over the m polynomial coefficients times the area under the kth polynomial, i.e.\n",
    "$area = \\sum{􏰇􏰇a_km_k} = a^Tm = a^T 􏰀A^{−1}d􏰉$. \n",
    "\n",
    "This is not a convenient way of expressing the area, however. Instead, we can regroup the multiplication and do the $A^{−1}$ and $a_k$ multiplication first. This will give us a set of weights that will then be applied to the data, so our estimate of the area will be 􏲐$\\sum w_id_i$ with i ranging from 0 to n − 1. Write code that does this, and prints out the weights as a function of n. Since we are integrating from -1 to 1, if the data are all equal to 1, the area should be 2, and hence the sum of the weights as we have defined them so far should be 2. You can use this fact to debug your code (in case, say, you got a transpose wrong).\n",
    "- - -"
   ]
  },
  {
   "cell_type": "code",
   "execution_count": 221,
   "metadata": {},
   "outputs": [
    {
     "name": "stdout",
     "output_type": "stream",
     "text": [
      "As expected we find that the area is 2.0\n",
      "For 3 points at 3rd order, we find [[0.33333333 1.33333333 0.33333333]] .\n",
      "for 5 points at 5th order we find [[0.15555556 0.71111111 0.26666667 0.71111111 0.15555556]] , etc.\n"
     ]
    }
   ],
   "source": [
    "import numpy as np\n",
    "\n",
    "npoly=3\n",
    "\n",
    "def poly_mat(npt,npoly):\n",
    "    mat=np.zeros([npt,npoly])\n",
    "    mat[:,0]=1\n",
    "    x=np.linspace(-1,1,npt)\n",
    "    for i in range(0,npt):\n",
    "            for j in range(0,npoly):\n",
    "                mat[i,j]=x[i]**j\n",
    "    return mat\n",
    "\n",
    "                \n",
    "def weights(npt,npoly):\n",
    "    x=np.linspace(-1,1,npt)\n",
    "    A=poly_mat(npt,npoly)\n",
    "    Ai=np.linalg.pinv(A)\n",
    "    ak=[]\n",
    "    for k in range(npoly):\n",
    "        if (k % 2) == 0:\n",
    "            ak.append(2/(k+1))\n",
    "        else:\n",
    "            ak.append(0)\n",
    "    ak=np.matrix(ak)\n",
    "    w=np.dot(ak,Ai)\n",
    "    return w\n",
    "\n",
    "\n",
    "\n",
    "print(\"As expected we find that the sum of weights is\", np.sum(weights(5,5)))\n",
    "print(\"For 3 points at 3rd order, we find\",weights(3,3),\".\")\n",
    "print(\"for 5 points at 5th order we find\",weights(5,5),\", etc.\" )\n"
   ]
  },
  {
   "cell_type": "markdown",
   "metadata": {},
   "source": [
    "- - -\n",
    "<b>D)</b> Normally, we define dx to be the spacing between points. In this\n",
    "case, the area under a flat segment of data should be (n−1)dx. Adjust (and\n",
    "reprint) your weights so that they are normalized as per usual. If all has\n",
    "gone well, you should get the usual Simpson’s method weights (with the dx\n",
    "factored out) of 1/3 [1 4 1], and the 5th order weights are 1/45 [14 64 24 64 14].\n",
    "- - -"
   ]
  },
  {
   "cell_type": "code",
   "execution_count": 222,
   "metadata": {},
   "outputs": [
    {
     "name": "stdout",
     "output_type": "stream",
     "text": [
      "After normalizing, for 3 points at 3rd order, we find [[1. 4. 1.]] .\n",
      "for 5 points at 5th order we find [[14. 64. 24. 64. 14.]] , etc.\n"
     ]
    }
   ],
   "source": [
    "def weightsnorm(weights,n):\n",
    "    wn=weights/(2/(n-1))\n",
    "    return wn\n",
    "w3=weights(3,3)\n",
    "w5=weights(5,5)\n",
    "w3n=weightsnorm(w3,3)*3\n",
    "w5n=weightsnorm(w5,5)*45\n",
    "print(\"After normalizing, for 3 points at 3rd order, we find\",w3n,\".\")\n",
    "print(\"for 5 points at 5th order we find\",w5n,\", etc.\" )"
   ]
  },
  {
   "cell_type": "markdown",
   "metadata": {},
   "source": [
    "- - -\n",
    "<b>E)</b> Use these weights to integrate $e^x$ from -1 to 1. Use roughly 30 points for n = 3, 5, 7, 9 and print out your error vs. the analytic expectation. Be careful to make sure the actual number of points you use is consistent with the integration order you have chosen (e.g. for n = 5, you are allowed to use 5,9,14,19... points).\n",
    "- - -"
   ]
  },
  {
   "cell_type": "code",
   "execution_count": 234,
   "metadata": {},
   "outputs": [
    {
     "name": "stdout",
     "output_type": "stream",
     "text": [
      "2.3504023872876028\n",
      "At 3 order, we find I= [[2.35103837]]  giving us an error of: [[0.00027059]]\n",
      "At 5 order, we find I= [[2.35040777]]  giving us an error of: [[2.29114134e-06]]\n",
      "At 7 order, we find I= [[2.35040241]]  giving us an error of: [[9.71397623e-09]]\n",
      "At 9 order, we find I= [[2.35040239]]  giving us an error of: [[2.67188239e-11]]\n",
      "[[2.35040239]]\n"
     ]
    }
   ],
   "source": [
    "npt=30\n",
    "def integrate(n,ord):\n",
    "    x=np.linspace(-1,1,n)\n",
    "    y=np.exp(x)\n",
    "    y=np.matrix(y)\n",
    "    I=weights(n,ord)*np.transpose(y)\n",
    "    return I\n",
    "\n",
    "analytic=np.exp(1)-np.exp(-1) #expected analytic answer\n",
    "print(analytic)\n",
    "\n",
    "for n in (3,5,7,9):\n",
    "    print(\"At\",n,\"order, we find I=\",integrate(npt,n),\" giving us an error of:\",(np.abs(analytic-integrate(npt,n)))/analytic)\n",
    "print(integrate(npt,n))\n",
    "\n"
   ]
  },
  {
   "cell_type": "markdown",
   "metadata": {},
   "source": [
    "### Question 4"
   ]
  },
  {
   "cell_type": "markdown",
   "metadata": {},
   "source": [
    "I have hidden an unknown Lorentzian in the file “lorentz data.txt”. Your job is to find it. The standard parameterization is\n",
    "$L=a/(1 + 􏱟 ( \\frac{x−x0}{w})^2)$\n",
    "where a is the amplitude, x0 is the center, and w is the width. I will tell you the noise is white (Gaussian, with uniform amplitude, uncorrelated from sample to sample) and that the width is at least 10 samples and at most 2000. You can load the data with “y=np.loadtxt(’lorentz data.txt’)”.\n",
    "\n",
    "- - -\n",
    "<b>A)</b> Select a range of possible widths that cover the width range in ques- tion, and carry out matched filters for each of your widths. For each width, report the maximum amplitude and corresponding x0.\n",
    "- - -"
   ]
  },
  {
   "cell_type": "code",
   "execution_count": 4,
   "metadata": {},
   "outputs": [
    {
     "data": {
      "text/plain": [
       "[<matplotlib.lines.Line2D at 0x119bd7908>]"
      ]
     },
     "execution_count": 4,
     "metadata": {},
     "output_type": "execute_result"
    }
   ],
   "source": [
    "import numpy as np\n",
    "from matplotlib import pyplot as plt\n",
    "y=np.loadtxt(\"/Users/jmlascar/phys512/exams/lorentz_data.txt\")\n",
    "x=np.linspace(0,len(y),len(y))\n",
    "w=np.linspace(10,2000,10)\n",
    "a=np.linspace(-1.5,1.5,10)\n",
    "x0=np.linspace(0,len(y),10)\n",
    "\n",
    "def model(w,x,a=1,x0=len(y)/2):\n",
    "    M=a/(1+(((x-x0)/w))**2)\n",
    "    return M\n",
    "    \n",
    "\n",
    "\n",
    "def template(y,model):\n",
    "    N=np.random.normal(np.mean(y),np.std(y),len(y))\n",
    "    t=model+N\n",
    "    return t\n",
    "\n",
    "plt.show()\n",
    "plt.plot(x,y)\n",
    "plt.plot(model(100,x))\n",
    "plt.plot(template(y,model(100,x)))\n"
   ]
  },
  {
   "cell_type": "code",
   "execution_count": 5,
   "metadata": {},
   "outputs": [
    {
     "data": {
      "text/plain": [
       "[<matplotlib.lines.Line2D at 0x11cf870b8>]"
      ]
     },
     "execution_count": 5,
     "metadata": {},
     "output_type": "execute_result"
    },
    {
     "data": {
      "image/png": "[encoded data removed]",
      "text/plain": [
       "<Figure size 432x288 with 1 Axes>"
      ]
     },
     "metadata": {
      "needs_background": "light"
     },
     "output_type": "display_data"
    }
   ],
   "source": [
    "YFT = np.fft.rfft(y)\n",
    "PS = np.abs(YFT**2)\n",
    "plt.figure()\n",
    "freqs = np.fft.rfftfreq(len(y))\n",
    "plt.plot(freqs,PS)\n"
   ]
  },
  {
   "cell_type": "code",
   "execution_count": 9,
   "metadata": {},
   "outputs": [
    {
     "data": {
      "text/plain": [
       "[<matplotlib.lines.Line2D at 0x125bab048>]"
      ]
     },
     "execution_count": 9,
     "metadata": {},
     "output_type": "execute_result"
    },
    {
     "data": {
      "image/png": "[encoded data removed]",
      "text/plain": [
       "<Figure size 432x288 with 1 Axes>"
      ]
     },
     "metadata": {
      "needs_background": "light"
     },
     "output_type": "display_data"
    }
   ],
   "source": [
    "template_ft_w = np.fft.rfft(window*T)\n",
    "mf_ft = y_ft_w * np.conj(template_ft_w )\n",
    "mf = np.fft.irfft(mf_ft, len(y))\n",
    "mf = np.fft.fftshift(mf)\n",
    "mf= np.abs(mf)\n",
    "plt.plot(mf)"
   ]
  },
  {
   "cell_type": "code",
   "execution_count": 121,
   "metadata": {},
   "outputs": [],
   "source": [
    "import scipy.signal.windows as wind\n",
    "from scipy.ndimage import gaussian_filter\n",
    "window = wind.nuttall(len(y))\n",
    "y_ft_w = np.fft.rfft(window*y)\n",
    "\n",
    "#to get the following limits, I ran my code multiple times and refined them\n",
    "w=np.linspace(100,500,100) \n",
    "a=np.linspace(0.1,0.3,100)\n",
    "x0=np.linspace(4500,5000,100)\n",
    "\n",
    "TemplateFTW=[]\n",
    "MF=[]\n",
    "plt.show()\n",
    "Spike=[]\n",
    "Loop=[]\n",
    "\n",
    "#we slide our match filter accross ranges of parameters and see which is the best guess\n",
    "for i in range(40):\n",
    "    for j in range(10):\n",
    "        for k in range(40):\n",
    "            T=template(y,model(w[i],x,a=a[j],x0=x0[k]))\n",
    "            tw=np.fft.rfft(window*T)\n",
    "            TemplateFTW.append(tw)\n",
    "            mf_ft = y_ft_w * np.conj(tw)\n",
    "            mf = np.fft.irfft(mf_ft, len(y))\n",
    "            mf = np.fft.fftshift(mf)\n",
    "            mf= np.abs(mf)\n",
    "            Spike.append(np.max(mf)/np.mean(mf))\n",
    "            Loop.append([\"i j k\",i,j,k])\n",
    "            MF.append(mf)\n",
    "            \n",
    "#print(MFFT)\n"
   ]
  },
  {
   "cell_type": "code",
   "execution_count": 122,
   "metadata": {},
   "outputs": [
    {
     "name": "stdout",
     "output_type": "stream",
     "text": [
      "(16000,)\n",
      "['i j k', 18, 3, 23]\n"
     ]
    },
    {
     "data": {
      "text/plain": [
       "[<matplotlib.lines.Line2D at 0x12765d128>]"
      ]
     },
     "execution_count": 122,
     "metadata": {},
     "output_type": "execute_result"
    },
    {
     "data": {
      "image/png": "[encoded data removed]",
      "text/plain": [
       "<Figure size 432x288 with 1 Axes>"
      ]
     },
     "metadata": {
      "needs_background": "light"
     },
     "output_type": "display_data"
    }
   ],
   "source": [
    "print(np.shape(Spike))\n",
    "i = np.argmax(Spike)\n",
    "print(Loop[i])\n",
    "plt.plot(MF[i]) #Our filter with the best spike"
   ]
  },
  {
   "cell_type": "code",
   "execution_count": 123,
   "metadata": {},
   "outputs": [
    {
     "name": "stdout",
     "output_type": "stream",
     "text": [
      "w 172.72727272727275 a 0.1181818181818182 x0 4575.757575757576\n",
      "13.451735709371134\n"
     ]
    }
   ],
   "source": [
    "print(\"w\",w[18],\"a\",a[9],\"x0\",x0[15])\n",
    "print(np.max(MF[i])/np.mean(MF[i])) #Our best parameter"
   ]
  },
  {
   "cell_type": "markdown",
   "metadata": {},
   "source": [
    "- - -\n",
    "<b>B)</b> Using your starting guess from part A), write either a Newton’s method (or Levenberg-Marquardt if you have trouble converging, but you shouldn’t need to for a suitably sensible starting guess) or MCMC. Your script should report the best fit parameters and estimates of their errors.\n",
    "- - -"
   ]
  },
  {
   "cell_type": "code",
   "execution_count": 56,
   "metadata": {},
   "outputs": [],
   "source": [
    "def newton_minimizer(x, y, y_model, p):\n",
    "    w=p[0]\n",
    "    a=p[1]\n",
    "    x0=p[2]\n",
    "    derivs = np.zeros((len(y), len(p)))\n",
    "    xx = x - x0\n",
    "    xw = 1 + (xx/w)**2\n",
    "    lorentz=a/xw\n",
    "    # Derivative with respect to w\n",
    "    x2w3=xx**2/(w**3)\n",
    "    derivs[:,0] = 2*a*x2w3/(xw**2)\n",
    "    # Derivative with respect to a\n",
    "    derivs[:,1] = 1/xw\n",
    "    # Derivative with respect to x0\n",
    "    xw2=xx/(w**2)\n",
    "    derivs[:,2] = 2*a*xw2/(xw**2)\n",
    "    \n",
    "    r = y - y_model #residual array \n",
    "    \n",
    "    delta_p = np.linalg.inv(derivs.T@derivs)@derivs.T@r\n",
    "    p_new = p + delta_p\n",
    "    return p_new, delta_p"
   ]
  },
  {
   "cell_type": "code",
   "execution_count": 129,
   "metadata": {},
   "outputs": [
    {
     "name": "stdout",
     "output_type": "stream",
     "text": [
      "parameters [1.720e+02 1.180e-01 4.575e+03]\n",
      "chi= 2945.003088093341\n",
      "delta chi= -0.8234932035306883\n",
      "parameters [2.40176888e+02 5.15691572e-02 4.64806108e+03]\n",
      "chi= 2944.6945754503836\n",
      "delta chi= -0.30851264295733927\n",
      "parameters [1.85744086e+02 7.89379097e-02 4.85168061e+03]\n",
      "chi= 2944.4435127166803\n",
      "delta chi= -0.2510627337032929\n",
      "parameters [1.95442648e+02 8.40702694e-02 4.73846622e+03]\n",
      "chi= 2944.3753674609056\n",
      "delta chi= -0.06814525577465247\n",
      "parameters [1.58947369e+02 9.63875154e-02 4.77364419e+03]\n",
      "chi= 2944.372545140034\n",
      "delta chi= -0.0028223208714734938\n",
      "parameters [1.54336942e+02 1.00881071e-01 4.77234598e+03]\n",
      "chi= 2944.3725003009863\n",
      "delta chi= -4.483904785956838e-05\n",
      "parameters [1.55249804e+02 1.00668615e-01 4.77317313e+03]\n",
      "chi= 2944.372497250305\n",
      "delta chi= -3.0506812436215114e-06\n"
     ]
    }
   ],
   "source": [
    "def calc_chisq(data, model):\n",
    "    return np.sum((data - model)**2)\n",
    "\n",
    "def newton_iterate(x, y, p):\n",
    "    w = p[0]\n",
    "    a = p[1]\n",
    "    x0 = p[2]\n",
    "    N=np.random.normal(np.mean(y),np.std(y),len(y))\n",
    "    y_model = model(w,x,a,x0)+N\n",
    "    p = np.array([w,a,x0])\n",
    "    old_chisq = calc_chisq(y, y_model)\n",
    "    delta_chisq = 1000\n",
    "    i = 1\n",
    "    # Iterate on Newton's method\n",
    "    while True:\n",
    "        print(\"parameters\",p)\n",
    "        p, delta_p = newton_minimizer(x, y, y_model, p)\n",
    "        y_model = model(p[0],x,p[1],p[2])+N\n",
    "        new_chisq = calc_chisq(y, y_model)\n",
    "        delta_chisq = new_chisq - old_chisq\n",
    "        print(\"chi=\",new_chisq)\n",
    "        print(\"delta chi=\",delta_chisq)\n",
    "        # If deltachisq << 1, break out of loop\n",
    "        if abs(delta_chisq) < 1e-5:\n",
    "            break\n",
    "        # Else keep iterating\n",
    "        else:\n",
    "            i += 1\n",
    "            old_chisq = new_chisq\n",
    "    return p\n",
    "\n",
    "p2=[172,0.118,4575]\n",
    "p=newton_iterate(x, y, p2)"
   ]
  },
  {
   "cell_type": "code",
   "execution_count": 130,
   "metadata": {},
   "outputs": [
    {
     "name": "stdout",
     "output_type": "stream",
     "text": [
      "[1.54898691e+02 1.00784389e-01 4.77304138e+03]\n"
     ]
    }
   ],
   "source": [
    "print(p)"
   ]
  },
  {
   "cell_type": "code",
   "execution_count": 131,
   "metadata": {},
   "outputs": [
    {
     "data": {
      "text/plain": [
       "[<matplotlib.lines.Line2D at 0x1269e3ba8>]"
      ]
     },
     "execution_count": 131,
     "metadata": {},
     "output_type": "execute_result"
    },
    {
     "data": {
      "image/png": "[encoded data removed]",
      "text/plain": [
       "<Figure size 432x288 with 1 Axes>"
      ]
     },
     "metadata": {
      "needs_background": "light"
     },
     "output_type": "display_data"
    }
   ],
   "source": [
    "plt.plot(model(p[0],x,p[1],p[2]))"
   ]
  },
  {
   "cell_type": "code",
   "execution_count": null,
   "metadata": {},
   "outputs": [],
   "source": []
  }
 ],
 "metadata": {
  "kernelspec": {
   "display_name": "Python 3",
   "language": "python",
   "name": "python3"
  },
  "language_info": {
   "codemirror_mode": {
    "name": "ipython",
    "version": 3
   },
   "file_extension": ".py",
   "mimetype": "text/x-python",
   "name": "python",
   "nbconvert_exporter": "python",
   "pygments_lexer": "ipython3",
   "version": "3.7.3"
  }
 },
 "nbformat": 4,
 "nbformat_minor": 2
}
