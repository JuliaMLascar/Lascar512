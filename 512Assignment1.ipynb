{
 "cells": [
  {
   "cell_type": "markdown",
   "metadata": {},
   "source": [
    "Problem 1: We saw in class how Taylor series/roundoff errors fight against each other when deciding how big a step size to use when calculating numerical derivatives. If we allow ourselves to evaluate our function f at four points (x±δ and x ± 2δ),\n",
    "\n",
    "a) What should our estimate of the first derivative at x be? Rather than doing a complicated fit, I suggest thinking about how to combine the derivative from x ± δ with the derivative from x ± 2δ to cancel the next term in the Taylor series."
   ]
  },
  {
   "cell_type": "code",
   "execution_count": 1,
   "metadata": {
    "scrolled": true
   },
   "outputs": [
    {
     "data": {
      "text/latex": [
       "From Taylor expansion:\\begin{eqnarray}\n",
       "f(x+\\delta)= f(x) + \\delta f'(x) + \\frac{\\delta^2}{2} f''(x) + \\frac{\\delta^{3}}{3!} f'''(x) + \\frac{\\delta^{4}}{4!} f'''(x) + \\mathcal{O}(\\delta^{5}) \\\\\n",
       "f(x-\\delta)= f(x) - \\delta f'(x) + \\frac{\\delta^2}{2} f''(x) - \\frac{\\delta^{3}}{3!} f'''(x) + \\frac{\\delta^{4}}{4!} f'''(x) - \\mathcal{O}(\\delta^{5}) \\\\\n",
       "f(x+\\delta)-f(x-\\delta)= 2\\delta f'(x) + \\frac{2\\delta^{3}}{3!} f'''(x) + \\mathcal{O}(\\delta^{5}) \\\\\n",
       "f(x+\\delta)-f(x-\\delta)= 2\\delta f'(x) + \\frac{\\delta^{3}}{3} f'''(x) + \\mathcal{O}(\\delta^{5}) \\\\\n",
       "\\frac{f(x+\\delta)-f(x-\\delta)}{2\\delta}= f'(x) + \\frac{\\delta^2}{6} f'''(x) + \\mathcal{O}(\\delta^{4}) \\\\\n",
       "\\end{eqnarray}\n",
       "\n",
       "Also from Taylor expansion but this time with 2\n",
       "$\\delta$: \n",
       "\\begin{eqnarray}\n",
       "f(x+2\\delta)-f(x-2\\delta)= 4\\delta f'(x) + \\frac{8\\delta^{3}}{3} f'''(x) + \\mathcal{O}(\\delta^{5}) \\\\\n",
       "\\frac{f(x+2\\delta)-f(x-2\\delta)}{2\\delta}= 2f'(x) + \\frac{8\\delta^2}{6}f'''(x) + \\mathcal{O}(\\delta^4) \\\\\n",
       "\\end{eqnarray}\n",
       "Now, we combine the two:\n",
       "\\begin{eqnarray}\n",
       "\\frac{8(f(x+\\delta)-f(x-\\delta))-f(x+2\\delta)+f(x-2\\delta)}{2\\delta}= 6f'(x) + \\mathcal{O}(\\delta^{4})\\\\\n",
       "\\end{eqnarray}\n",
       "Thus, the formula is:\n",
       "\\begin{eqnarray}f'(x)=\\frac{8(f(x+\\delta)-f(x-\\delta))-f(x+2\\delta)+f(x-2\\delta)}{12\\delta}+ \\mathcal{O}(\\delta^4)\n",
       "\\end{eqnarray}\n"
      ],
      "text/plain": [
       "<IPython.core.display.Latex object>"
      ]
     },
     "execution_count": 1,
     "metadata": {},
     "output_type": "execute_result"
    }
   ],
   "source": [
    "from IPython.display import Latex\n",
    "Latex(r\"\"\"From Taylor expansion:\\begin{eqnarray}\n",
    "f(x+\\delta)= f(x) + \\delta f'(x) + \\frac{\\delta^2}{2} f''(x) + \\frac{\\delta^{3}}{3!} f'''(x) + \\frac{\\delta^{4}}{4!} f'''(x) + \\mathcal{O}(\\delta^{5}) \\\\\n",
    "f(x-\\delta)= f(x) - \\delta f'(x) + \\frac{\\delta^2}{2} f''(x) - \\frac{\\delta^{3}}{3!} f'''(x) + \\frac{\\delta^{4}}{4!} f'''(x) - \\mathcal{O}(\\delta^{5}) \\\\\n",
    "f(x+\\delta)-f(x-\\delta)= 2\\delta f'(x) + \\frac{2\\delta^{3}}{3!} f'''(x) + \\mathcal{O}(\\delta^{5}) \\\\\n",
    "f(x+\\delta)-f(x-\\delta)= 2\\delta f'(x) + \\frac{\\delta^{3}}{3} f'''(x) + \\mathcal{O}(\\delta^{5}) \\\\\n",
    "\\frac{f(x+\\delta)-f(x-\\delta)}{2\\delta}= f'(x) + \\frac{\\delta^2}{6} f'''(x) + \\mathcal{O}(\\delta^{4}) \\\\\n",
    "\\end{eqnarray}\n",
    "\n",
    "Also from Taylor expansion but this time with 2\n",
    "$\\delta$: \n",
    "\\begin{eqnarray}\n",
    "f(x+2\\delta)-f(x-2\\delta)= 4\\delta f'(x) + \\frac{8\\delta^{3}}{3} f'''(x) + \\mathcal{O}(\\delta^{5}) \\\\\n",
    "\\frac{f(x+2\\delta)-f(x-2\\delta)}{2\\delta}= 2f'(x) + \\frac{8\\delta^2}{6}f'''(x) + \\mathcal{O}(\\delta^4) \\\\\n",
    "\\end{eqnarray}\n",
    "Now, we combine the two:\n",
    "\\begin{eqnarray}\n",
    "\\frac{8(f(x+\\delta)-f(x-\\delta))-f(x+2\\delta)+f(x-2\\delta)}{2\\delta}= 6f'(x) + \\mathcal{O}(\\delta^{4})\\\\\n",
    "\\end{eqnarray}\n",
    "Thus, the formula is:\n",
    "\\begin{eqnarray}f'(x)=\\frac{8(f(x+\\delta)-f(x-\\delta))-f(x+2\\delta)+f(x-2\\delta)}{12\\delta}+ \\mathcal{O}(\\delta^4)\n",
    "\\end{eqnarray}\n",
    "\"\"\")\n"
   ]
  },
  {
   "cell_type": "code",
   "execution_count": 1,
   "metadata": {},
   "outputs": [
    {
     "name": "stdout",
     "output_type": "stream",
     "text": [
      "We find that d(exp(x))/dx evaluated at 1 is: 2.718281828887707\n",
      "Which corresponds to our expectation of 2.718281828459045\n",
      "The error is 4.286619947890813e-10\n"
     ]
    }
   ],
   "source": [
    "#In code \n",
    "import numpy as np\n",
    "def firstderiv(x0,delta,fun):\n",
    "    x=(x0-2*delta,x0-delta,x0+delta,x0+2*delta)\n",
    "    y=fun(x)\n",
    "    diff1= (y[2]-y[1])\n",
    "    diff2= (y[3]-y[0])\n",
    "    firstderiv= (8*diff1 -diff2)/(12*delta)\n",
    "    return firstderiv\n",
    "     \n",
    "#Sanity Check  \n",
    "fd=firstderiv(1,0.0000001,np.exp)\n",
    "print(\"We find that d(exp(x))/dx evaluated at 1 is:\",fd)\n",
    "print(\"Which corresponds to our expectation of\",np.exp(1)) \n",
    "print(\"The error is\",abs(np.exp(1)-fd))"
   ]
  },
  {
   "cell_type": "markdown",
   "metadata": {},
   "source": [
    "b) Now that you have your operator for the derivative, what should δ be in terms of the machine precision and various properties of the function? "
   ]
  },
  {
   "cell_type": "code",
   "execution_count": 21,
   "metadata": {
    "scrolled": true
   },
   "outputs": [
    {
     "data": {
      "text/latex": [
       "To find the ideal delta, let's try to minimize our error:\n",
       "\\begin{eqnarray}diff=\\frac{8(f(x+\\delta)-f(x-\\delta))-f(x+2\\delta)+f(x-2\\delta)}{12\\delta}+ \\mathcal{O}(\\delta^4)\\\\\n",
       "Error=|diff-f'(x)|\\\\\n",
       "Error\\approx|\\frac{f^{(5)}\\delta^4}{4}+\\frac{\\epsilon_mf(x)}{2\\delta}|\n",
       "\\end{eqnarray}\n",
       "Where the first term is the order of $\\delta^4$ left from our expression of diff, and $\\epsilon_m$ is machine precision.\n",
       "By minimizing this expression, we obtain: \n",
       "\\begin{eqnarray}\n",
       "\\frac{dError}{d\\delta}=0 \\\\\n",
       "0=f^{(5)}\\delta^3-\\frac{\\epsilon_mf(x)}{\\delta^2} \\\\\n",
       "f^{(5)}\\delta^3=\\frac{\\epsilon_mf(x)}{\\delta^2} \\\\\n",
       "\\delta^5=\\frac{\\epsilon_mf(x)}{f^{(5)}} \\\\\n",
       "\\end{eqnarray}\n",
       "So if we assume that $f(x)\\approx f^{(5)}(x)$, then the ideal $\\delta$ is $\\epsilon_m^{1/5}$, or $10^{-16/5}$.\n"
      ],
      "text/plain": [
       "<IPython.core.display.Latex object>"
      ]
     },
     "execution_count": 21,
     "metadata": {},
     "output_type": "execute_result"
    }
   ],
   "source": [
    "from IPython.display import Latex\n",
    "Latex(r\"\"\"To find the ideal delta, let's try to minimize our error:\n",
    "\\begin{eqnarray}diff=\\frac{8(f(x+\\delta)-f(x-\\delta))-f(x+2\\delta)+f(x-2\\delta)}{12\\delta}+ \\mathcal{O}(\\delta^4)\\\\\n",
    "Error=|diff-f'(x)|\\\\\n",
    "Error\\approx|\\frac{f^{(5)}\\delta^4}{4}+\\frac{\\epsilon_mf(x)}{2\\delta}|\n",
    "\\end{eqnarray}\n",
    "Where the first term is the order of $\\delta^4$ left from our expression of diff, and $\\epsilon_m$ is machine precision.\n",
    "By minimizing this expression, we obtain: \n",
    "\\begin{eqnarray}\n",
    "\\frac{dError}{d\\delta}=0 \\\\\n",
    "0=f^{(5)}\\delta^3-\\frac{\\epsilon_mf(x)}{\\delta^2} \\\\\n",
    "f^{(5)}\\delta^3=\\frac{\\epsilon_mf(x)}{\\delta^2} \\\\\n",
    "\\delta^5=\\frac{\\epsilon_mf(x)}{f^{(5)}} \\\\\n",
    "\\end{eqnarray}\n",
    "So if we assume that $f(x)\\approx f^{(5)}(x)$, then the ideal $\\delta$ is $\\epsilon_m^{1/5}$, or $10^{-16/5}$.\n",
    "\"\"\")"
   ]
  },
  {
   "cell_type": "markdown",
   "metadata": {},
   "source": [
    "b) (continued) Show for f(x) = exp(x) and f(x) = exp(0.01x) that your estimate of the optimal δ is at least roughly correct."
   ]
  },
  {
   "cell_type": "code",
   "execution_count": 77,
   "metadata": {},
   "outputs": [
    {
     "data": {
      "image/png": "[encoded data removed]",
      "text/plain": [
       "<Figure size 432x288 with 1 Axes>"
      ]
     },
     "metadata": {
      "needs_background": "light"
     },
     "output_type": "display_data"
    },
    {
     "name": "stdout",
     "output_type": "stream",
     "text": [
      "Our optimal delta (orange point) roughly gives minimum error.\n"
     ]
    }
   ],
   "source": [
    "import numpy as np\n",
    "from matplotlib import pyplot as plt\n",
    "def firstderiv(x0,delta,fun):\n",
    "    x=(x0-2*delta,x0-delta,x0+delta,x0+2*delta)\n",
    "    y=fun(x)\n",
    "    diff1= (y[2]-y[1])\n",
    "    diff2= (y[3]-y[0])\n",
    "    firstderiv= (8*diff1 -diff2)/(12*delta)\n",
    "    return firstderiv\n",
    "     \n",
    "delta=np.linspace(10**(-5),10**(-2),100)\n",
    "optimal_delta=(10**(-16/5))\n",
    "error= abs(np.exp(5)-firstderiv(5,delta,np.exp))\n",
    "optimal_error=abs(np.exp(5)-firstderiv(5,optimal_delta,np.exp))\n",
    "plt.clf()\n",
    "plt.plot(delta,error)\n",
    "plt.plot((10**(-16/5)),optimal_error,\"*\")\n",
    "plt.xlabel('Values of Delta') \n",
    "plt.ylabel('Error')  \n",
    "plt.show()\n",
    "print('Our optimal delta (orange point) roughly gives minimum error.')\n"
   ]
  },
  {
   "cell_type": "code",
   "execution_count": 79,
   "metadata": {},
   "outputs": [
    {
     "data": {
      "image/png": "[encoded data removed]",
      "text/plain": [
       "<Figure size 432x288 with 1 Axes>"
      ]
     },
     "metadata": {
      "needs_background": "light"
     },
     "output_type": "display_data"
    },
    {
     "name": "stdout",
     "output_type": "stream",
     "text": [
      "Our optimal delta (orange point) roughly gives minimum error.\n"
     ]
    }
   ],
   "source": [
    "import numpy as np\n",
    "from matplotlib import pyplot as plt\n",
    "def firstderiv(x0,delta,fun):\n",
    "    x=(x0-2*delta,x0-delta,x0+delta,x0+2*delta)\n",
    "    y=fun(x)\n",
    "    diff1= (y[2]-y[1])\n",
    "    diff2= (y[3]-y[0])\n",
    "    firstderiv= (8*diff1 -diff2)/(12*delta)\n",
    "    return firstderiv\n",
    "\n",
    "def e001(x):\n",
    "    y=np.exp(np.asarray(x)*0.01)\n",
    "    return y\n",
    "\n",
    "delta=np.linspace(10**(-5),10**(-2),100)\n",
    "optimal_delta=(10**(-16/5))\n",
    "\n",
    "exp001_A=0.01*np.exp(0.01) #analytical derivative\n",
    "exp001_B=firstderiv(1,delta,e001) #using our algorithm and optimal delta\n",
    "error2= abs(exp001_A-exp001_B)\n",
    "optimal_error2=abs(0.01*np.exp(0.01)-firstderiv(1,optimal_delta,e001))\n",
    "plt.clf()\n",
    "plt.plot(delta,error2)\n",
    "plt.plot(optimal_delta,optimal_error2,'*')\n",
    "plt.xlabel('Values of Delta') \n",
    "plt.ylabel('Error') \n",
    "plt.show()\n",
    "print('Our optimal delta (orange point) roughly gives minimum error.')"
   ]
  },
  {
   "cell_type": "markdown",
   "metadata": {},
   "source": [
    "Problem 2:\n",
    "Write a routine that will take an arbitrary voltage and interpolate to return a temperature."
   ]
  },
  {
   "cell_type": "code",
   "execution_count": 42,
   "metadata": {
    "scrolled": true
   },
   "outputs": [
    {
     "data": {
      "image/png": "[encoded data removed]",
      "text/plain": [
       "<Figure size 432x288 with 1 Axes>"
      ]
     },
     "metadata": {
      "needs_background": "light"
     },
     "output_type": "display_data"
    },
    {
     "name": "stdout",
     "output_type": "stream",
     "text": [
      "For a voltage of  1.4 V the temperature is 9.412486285451617 K, and the error is 9.26516856196713e-05\n"
     ]
    }
   ],
   "source": [
    "import numpy as np\n",
    "from matplotlib import pyplot as plt\n",
    "from scipy import interpolate\n",
    "\n",
    "\n",
    "def temperature(V):\n",
    "    data = np.loadtxt(\"/Users/jmlascar/lakeshore.txt\")\n",
    "    data = np.transpose(data)\n",
    "    temperature, voltage = data[0], data[1]\n",
    "    ind=np.argsort(voltage)\n",
    "    temperature=temperature[ind]\n",
    "    voltage=voltage[ind]\n",
    "    spln=interpolate.splrep(voltage,temperature)\n",
    "    yy=interpolate.splev(V,spln)\n",
    "    return yy\n",
    "\n",
    "def temperature_odd(V):\n",
    "    data = np.loadtxt(\"/Users/jmlascar/lakeshore.txt\")\n",
    "    data = np.transpose(data)\n",
    "    temperature, voltage = data[0], data[1]\n",
    "    ind=np.argsort(voltage)\n",
    "    temperature=temperature[ind]\n",
    "    temperature=temperature[1::2]\n",
    "    voltage=voltage[ind]\n",
    "    voltage=voltage[1::2]\n",
    "    spln=interpolate.splrep(voltage,temperature)\n",
    "    yy=interpolate.splev(V,spln)\n",
    "    return yy\n",
    "\n",
    "#just to get a nice plot:\n",
    "data = np.loadtxt(\"/Users/jmlascar/lakeshore.txt\")\n",
    "data = np.transpose(data)\n",
    "temp, volt = data[0], data[1]\n",
    "plt.clf()\n",
    "plt.plot(volt, temp,\"*\")\n",
    "plt.plot(volt,temperature(volt))\n",
    "plt.show()\n",
    "plt.xlabel('Voltage (V)') \n",
    "plt.ylabel('Temperature (K)')  \n",
    "#estimate error \n",
    "\n",
    "\n",
    "\n",
    "V=1.4\n",
    "T=temperature(V)\n",
    "error=abs(temperature_odd(V)-temperature(V))\n",
    "\n",
    "\n",
    "if (V<9.0681e-02) or (V>1.64429):\n",
    "    print(\"A voltage of\",V,\"V is outside the bounds of this interpolation.\")\n",
    "else:\n",
    "    print(\"For a voltage of \",V,\"V the temperature is\",T,\"K, and the error is\",error)\n"
   ]
  },
  {
   "cell_type": "markdown",
   "metadata": {},
   "source": [
    "Problem 3) Write a recursive variable step size integrator like the one we wrote in class that \n",
    "does NOT call f(x) multiple times for the same x. For a few typical examples, how many function calls do you save vs. the lazy way we wrote it in class?\n"
   ]
  },
  {
   "cell_type": "code",
   "execution_count": 59,
   "metadata": {},
   "outputs": [
    {
     "name": "stdout",
     "output_type": "stream",
     "text": [
      "Exp(x) integrated from 0 to 2: If we use our integral, we get 257 function calls, 58 less than with the one done in class.\n",
      "Exp(x^3) integrated from 0 to 2: 4135 less function calls.\n"
     ]
    }
   ],
   "source": [
    "import numpy as np\n",
    "\n",
    "def myintegrate(fun,x1,x2,tracks=[[],[]],tol=1e-8): \n",
    "    \n",
    "    x = np.linspace(x1,x2,5) #get 5 points that are evenly spaced between a and b\n",
    "    y=[]\n",
    "    neval=0  \n",
    "        \n",
    "    if len(tracks[0])<1: #first time, when we haven't called the function at all   \n",
    "        for i in x:\n",
    "            y_i=fun(i)\n",
    "            tracks[0].append(i)\n",
    "            tracks[1].append(y_i)\n",
    "            y.append(y_i)\n",
    "            neval=neval+1\n",
    "    else:\n",
    "        for i in x:\n",
    "            if i in tracks[0]: #function has already been called for that x\n",
    "                index = tracks[0].index(i)\n",
    "                y.append(tracks[1][index])                \n",
    "            else: #function has not been called for that x\n",
    "                y_i=fun(i)\n",
    "                tracks[0].append(i)\n",
    "                tracks[1].append(y_i)\n",
    "                y.append(y_i)\n",
    "                neval=neval+1\n",
    "    \n",
    "    int1=(y[0]+4*y[2]+y[4])/6.0*(x2-x1) \n",
    "    int2=(y[0]+4*y[1]+2*y[2]+4*y[3]+y[4])/12.0*(x2-x1) \n",
    "    error=np.abs(int2-int1)\n",
    "    \n",
    "    if error<tol:\n",
    "        return (16.0*int2-int1)/15.0,error,neval\n",
    "    else:\n",
    "        mid=0.5*(x1+x2)\n",
    "        leftintegral,lefterror,leftneval=myintegrate(fun,x1,mid,tracks,tol/2.0)\n",
    "        rightintegral,righterror,rightneval=myintegrate(fun,mid,x2,tracks,tol/2.0)\n",
    "        neval=neval+leftneval+rightneval\n",
    "        integral=leftintegral+rightintegral\n",
    "        error=lefterror+righterror\n",
    "        return integral,error,neval\n",
    "\n",
    "#######WAY WE DID IN CLASS FOR COMPARISON:#######\n",
    "\n",
    "def simple_integrate(fun,a,b,tol=10e-8):\n",
    "    x=np.linspace(a,b,5)\n",
    "    #np.median(np.diff(x))\n",
    "    y=fun(x)\n",
    "    neval=len(x) #let's keep track of function evaluations\n",
    "    f1=(y[0]+4*y[2]+y[4])/6.0*(b-a)\n",
    "    f2=(y[0]+4*y[1]+2*y[2]+4*y[3]+y[4])/12.0*(b-a)\n",
    "    myerr=np.abs(f2-f1)\n",
    "    if (myerr<tol):\n",
    "        #return (f2)/1.0,myerr,neval\n",
    "        return (16.0*f2-f1)/15.0,myerr,neval\n",
    "    else:\n",
    "        mid=0.5*(b+a)\n",
    "        f_left,err_left,neval_left=simple_integrate(fun,a,mid,tol/2.0)\n",
    "        f_right,err_right,neval_right=simple_integrate(fun,mid,b,tol/2.0)\n",
    "        neval=neval+neval_left+neval_right\n",
    "        f=f_left+f_right\n",
    "        err=err_left+err_right\n",
    "        return f,err,neval\n",
    "\n",
    "###############################\n",
    "def exp2(x):\n",
    "    y=np.exp(x**3)\n",
    "    return y\n",
    "\n",
    "def exp3(x):\n",
    "    y=np.exp(-x)\n",
    "    return y\n",
    "    \n",
    "intx=myintegrate(np.exp,0,2)\n",
    "intclass=simple_integrate(np.exp,0,2)\n",
    "\n",
    "intx2=myintegrate(exp2,0,2)\n",
    "intclass2=simple_integrate(exp2,0,2)\n",
    "\n",
    "print(\"Exp(x) integrated from 0 to 2: If we use our integral, we get\", intx[2], \"function calls,\",intclass[2]-intx[2],\"less than with the one done in class.\")\n",
    "print(\"Exp(x^3) integrated from 0 to 2:\",intclass2[2]-intx2[2],\"less function calls.\")"
   ]
  },
  {
   "cell_type": "markdown",
   "metadata": {},
   "source": [
    "Problem 4"
   ]
  },
  {
   "cell_type": "code",
   "execution_count": 86,
   "metadata": {},
   "outputs": [
    {
     "data": {
      "text/latex": [
       "For an infinitesimally thin shell of radius R and charge density $\\sigma$, \n",
       "the field E in spherical coordinates only has a z component:\n",
       "\\begin{eqnarray}E=\\frac{1}{4\\pi\\epsilon_0}\\int \\frac{\\sigma R^2 sin\\theta d\\theta d\\phi (z-Rcos\\theta)}{(R^2+z^2-2Rzcos\\theta)^{3/2}} \\\\\n",
       "\\int d\\phi = 2\\pi \\\\\n",
       "E =\\frac{R^2\\sigma}{2\\epsilon_0}\\int_0^{\\pi} \\frac{ (z-Rcos\\theta)}{(R^2+z^2-2Rzcos\\theta)^{3/2}}d\\theta \\\\\n",
       "\\end{eqnarray}\n",
       "\n"
      ],
      "text/plain": [
       "<IPython.core.display.Latex object>"
      ]
     },
     "execution_count": 86,
     "metadata": {},
     "output_type": "execute_result"
    }
   ],
   "source": [
    "from IPython.display import Latex\n",
    "Latex(r\"\"\"For an infinitesimally thin shell of radius R and charge density $\\sigma$, \n",
    "the field E in spherical coordinates only has a z component:\n",
    "\\begin{eqnarray}E=\\frac{1}{4\\pi\\epsilon_0}\\int \\frac{\\sigma R^2 sin\\theta d\\theta d\\phi (z-Rcos\\theta)}{(R^2+z^2-2Rzcos\\theta)^{3/2}} \\\\\n",
    "\\int d\\phi = 2\\pi \\\\\n",
    "E =\\frac{R^2\\sigma}{2\\epsilon_0}\\int_0^{\\pi} \\frac{ (z-Rcos\\theta)}{(R^2+z^2-2Rzcos\\theta)^{3/2}}d\\theta \\\\\n",
    "\\end{eqnarray}\n",
    "\n",
    "\"\"\")"
   ]
  },
  {
   "cell_type": "code",
   "execution_count": 85,
   "metadata": {},
   "outputs": [
    {
     "data": {
      "image/png": "[encoded data removed]",
      "text/plain": [
       "<Figure size 432x288 with 1 Axes>"
      ]
     },
     "metadata": {
      "needs_background": "light"
     },
     "output_type": "display_data"
    }
   ],
   "source": [
    "import numpy as np\n",
    "from scipy.integrate import quad\n",
    "import math\n",
    "\n",
    "R=3 #radius\n",
    "sigma=3 #charge density\n",
    "epsilon=8.85400e-12 #vacuum permittivity \n",
    "\n",
    "#first, with quad\n",
    "def integrand(theta,z,R):\n",
    "    y=(z-R*np.cos(theta))/((R**2+z**2-2*R*z*np.cos(theta))**(3/2))\n",
    "    return y\n",
    "def integral_quad(z,R,sigma):\n",
    "    y=quad(integrand, 0, math.pi,args=(z,R))[0]\n",
    "    y= (sigma*R**2)*y\n",
    "    return y\n",
    "\n",
    "z=1\n",
    "zz=np.linspace(0,10,100)\n",
    "\n",
    "E2=np.zeros(100)\n",
    "for i in range(0,99):\n",
    "    z=zz[i]\n",
    "    E2[i]=integral_quad(z,R,sigma)\n",
    "\n",
    "    \n",
    " \n",
    "plt.clf()\n",
    "plt.plot(zz,E2,'b')\n",
    "plt.xlabel('Distance from center') \n",
    "plt.ylabel('Electric field')  \n",
    "plt.show()\n",
    "\n"
   ]
  },
  {
   "cell_type": "markdown",
   "metadata": {},
   "source": [
    "I wasn't able to make this work for my own integrator, but we see that despite there being a singularity when we reach the radius of the infinitesimal shell, quad skips it."
   ]
  },
  {
   "cell_type": "code",
   "execution_count": null,
   "metadata": {},
   "outputs": [],
   "source": []
  }
 ],
 "metadata": {
  "kernelspec": {
   "display_name": "Python 3",
   "language": "python",
   "name": "python3"
  },
  "language_info": {
   "codemirror_mode": {
    "name": "ipython",
    "version": 3
   },
   "file_extension": ".py",
   "mimetype": "text/x-python",
   "name": "python",
   "nbconvert_exporter": "python",
   "pygments_lexer": "ipython3",
   "version": "3.7.3"
  }
 },
 "nbformat": 4,
 "nbformat_minor": 2
}
