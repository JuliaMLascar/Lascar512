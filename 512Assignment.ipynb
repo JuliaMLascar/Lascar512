{
 "cells": [
  {
   "cell_type": "markdown",
   "metadata": {},
   "source": [
    "Problem 1: We saw in class how Taylor series/roundoff errors fight against each other when deciding how big a step size to use when calculating numerical derivatives. If we allow ourselves to evaluate our function f at four points (x±δ and x ± 2δ),\n",
    "\n",
    "a) What should our estimate of the first derivative at x be? Rather than doing a complicated fit, I suggest thinking about how to combine the derivative from x ± δ with the derivative from x ± 2δ to cancel the next term in the Taylor series."
   ]
  },
  {
   "cell_type": "code",
   "execution_count": 1,
   "metadata": {
    "scrolled": true
   },
   "outputs": [
    {
     "data": {
      "text/latex": [
       "From Taylor expansion:\\begin{eqnarray}\n",
       "f(x+\\delta)= f(x) + \\delta f'(x) + \\frac{\\delta^2}{2} f''(x) + \\frac{\\delta^{3}}{3!} f'''(x) + \\frac{\\delta^{4}}{4!} f'''(x) + \\mathcal{O}(\\delta^{5}) \\\\\n",
       "f(x-\\delta)= f(x) - \\delta f'(x) + \\frac{\\delta^2}{2} f''(x) - \\frac{\\delta^{3}}{3!} f'''(x) + \\frac{\\delta^{4}}{4!} f'''(x) - \\mathcal{O}(\\delta^{5}) \\\\\n",
       "f(x+\\delta)-f(x-\\delta)= 2\\delta f'(x) + \\frac{2\\delta^{3}}{3!} f'''(x) + \\mathcal{O}(\\delta^{5}) \\\\\n",
       "f(x+\\delta)-f(x-\\delta)= 2\\delta f'(x) + \\frac{\\delta^{3}}{3} f'''(x) + \\mathcal{O}(\\delta^{5}) \\\\\n",
       "\\frac{f(x+\\delta)-f(x-\\delta)}{2\\delta}= f'(x) + \\frac{\\delta^2}{6} f'''(x) + \\mathcal{O}(\\delta^{4}) \\\\\n",
       "\\end{eqnarray}\n",
       "\n",
       "Also from Taylor expansion but this time with 2\n",
       "$\\delta$: \n",
       "\\begin{eqnarray}\n",
       "f(x+2\\delta)-f(x-2\\delta)= 4\\delta f'(x) + \\frac{8\\delta^{3}}{3} f'''(x) + \\mathcal{O}(\\delta^{5}) \\\\\n",
       "\\frac{f(x+2\\delta)-f(x-2\\delta)}{2\\delta}= 2f'(x) + \\frac{8\\delta^2}{6}f'''(x) + \\mathcal{O}(\\delta^4) \\\\\n",
       "\\end{eqnarray}\n",
       "Now, we combine the two:\n",
       "\\begin{eqnarray}\n",
       "\\frac{8(f(x+\\delta)-f(x-\\delta))-f(x+2\\delta)+f(x-2\\delta)}{2\\delta}= 6f'(x) + \\mathcal{O}(\\delta^{4})\\\\\n",
       "\\end{eqnarray}\n",
       "Thus, the formula is:\n",
       "\\begin{eqnarray}f'(x)=\\frac{8(f(x+\\delta)-f(x-\\delta))-f(x+2\\delta)+f(x-2\\delta)}{12\\delta}+ \\mathcal{O}(\\delta^4)\n",
       "\\end{eqnarray}\n"
      ],
      "text/plain": [
       "<IPython.core.display.Latex object>"
      ]
     },
     "execution_count": 1,
     "metadata": {},
     "output_type": "execute_result"
    }
   ],
   "source": [
    "from IPython.display import Latex\n",
    "Latex(r\"\"\"From Taylor expansion:\\begin{eqnarray}\n",
    "f(x+\\delta)= f(x) + \\delta f'(x) + \\frac{\\delta^2}{2} f''(x) + \\frac{\\delta^{3}}{3!} f'''(x) + \\frac{\\delta^{4}}{4!} f'''(x) + \\mathcal{O}(\\delta^{5}) \\\\\n",
    "f(x-\\delta)= f(x) - \\delta f'(x) + \\frac{\\delta^2}{2} f''(x) - \\frac{\\delta^{3}}{3!} f'''(x) + \\frac{\\delta^{4}}{4!} f'''(x) - \\mathcal{O}(\\delta^{5}) \\\\\n",
    "f(x+\\delta)-f(x-\\delta)= 2\\delta f'(x) + \\frac{2\\delta^{3}}{3!} f'''(x) + \\mathcal{O}(\\delta^{5}) \\\\\n",
    "f(x+\\delta)-f(x-\\delta)= 2\\delta f'(x) + \\frac{\\delta^{3}}{3} f'''(x) + \\mathcal{O}(\\delta^{5}) \\\\\n",
    "\\frac{f(x+\\delta)-f(x-\\delta)}{2\\delta}= f'(x) + \\frac{\\delta^2}{6} f'''(x) + \\mathcal{O}(\\delta^{4}) \\\\\n",
    "\\end{eqnarray}\n",
    "\n",
    "Also from Taylor expansion but this time with 2\n",
    "$\\delta$: \n",
    "\\begin{eqnarray}\n",
    "f(x+2\\delta)-f(x-2\\delta)= 4\\delta f'(x) + \\frac{8\\delta^{3}}{3} f'''(x) + \\mathcal{O}(\\delta^{5}) \\\\\n",
    "\\frac{f(x+2\\delta)-f(x-2\\delta)}{2\\delta}= 2f'(x) + \\frac{8\\delta^2}{6}f'''(x) + \\mathcal{O}(\\delta^4) \\\\\n",
    "\\end{eqnarray}\n",
    "Now, we combine the two:\n",
    "\\begin{eqnarray}\n",
    "\\frac{8(f(x+\\delta)-f(x-\\delta))-f(x+2\\delta)+f(x-2\\delta)}{2\\delta}= 6f'(x) + \\mathcal{O}(\\delta^{4})\\\\\n",
    "\\end{eqnarray}\n",
    "Thus, the formula is:\n",
    "\\begin{eqnarray}f'(x)=\\frac{8(f(x+\\delta)-f(x-\\delta))-f(x+2\\delta)+f(x-2\\delta)}{12\\delta}+ \\mathcal{O}(\\delta^4)\n",
    "\\end{eqnarray}\n",
    "\"\"\")\n"
   ]
  },
  {
   "cell_type": "code",
   "execution_count": 79,
   "metadata": {},
   "outputs": [
    {
     "name": "stdout",
     "output_type": "stream",
     "text": [
      "We find that d(exp(x))/dx evaluated at 1 is: 2.718281828887707\n",
      "Which corresponds to our expectation of 2.718281828459045\n",
      "The error is 4.286619947890813e-10\n"
     ]
    }
   ],
   "source": [
    "#In code \n",
    "import numpy as np\n",
    "def firstderiv(x0,delta,fun):\n",
    "    x=(x0-2*delta,x0-delta,x0+delta,x0+2*delta)\n",
    "    y=fun(x)\n",
    "    diff1= (y[2]-y[1])\n",
    "    diff2= (y[3]-y[0])\n",
    "    firstderiv= (8*diff1 -diff2)/(12*delta)\n",
    "    return firstderiv\n",
    "     \n",
    "#Sanity Check  \n",
    "fd=firstderiv(1,0.0000001,np.exp)\n",
    "print(\"We find that d(exp(x))/dx evaluated at 1 is:\",fd)\n",
    "print(\"Which corresponds to our expectation of\",np.exp(1)) \n",
    "print(\"The error is\",abs(np.exp(1)-fd))"
   ]
  },
  {
   "cell_type": "markdown",
   "metadata": {},
   "source": [
    "b) Now that you have your operator for the derivative, what should δ be in terms of the machine precision and various properties of the function? "
   ]
  },
  {
   "cell_type": "code",
   "execution_count": 27,
   "metadata": {},
   "outputs": [
    {
     "data": {
      "text/latex": [
       "To find the ideal delta, let's try to minimize our error:\n",
       "\\begin{eqnarray}diff=\\frac{8(f(x+\\delta)-f(x-\\delta))-f(x+2\\delta)+f(x-2\\delta)}{12\\delta}+ \\mathcal{O}(\\delta^4)\\\\\n",
       "Error=diff-f'(x)\\\\\n",
       "Error\\approx\\frac{f^{(5)}\\delta^4}{4}+\\frac{\\epsilon_mf(x)}{2\\delta}\n",
       "\\end{eqnarray}\n",
       "Where the first term is the order of $\\delta^4$ left from our expression of diff, and $\\epsilon_m$ is machine precision.\n",
       "By minimizing this expression, we obtain: \n",
       "\\begin{eqnarray}\n",
       "\\frac{dError}{d\\delta}=0 \\\\\n",
       "0=f^{(5)}\\delta^3-\\frac{\\epsilon_mf(x)}{\\delta^2} \\\\\n",
       "f^{(5)}\\delta^3=\\frac{\\epsilon_mf(x)}{\\delta^2} \\\\\n",
       "\\delta^5=\\frac{\\epsilon_mf(x)}{f^{(5)}} \\\\\n",
       "\\end{eqnarray}\n",
       "So if we assume that $f(x)\\approx f^{(5)}(x)$, then the ideal $\\delta$ is $\\epsilon_m^{1/5}$, or $10^{-16/5}$.\n"
      ],
      "text/plain": [
       "<IPython.core.display.Latex object>"
      ]
     },
     "execution_count": 27,
     "metadata": {},
     "output_type": "execute_result"
    }
   ],
   "source": [
    "from IPython.display import Latex\n",
    "Latex(r\"\"\"To find the ideal delta, let's try to minimize our error:\n",
    "\\begin{eqnarray}diff=\\frac{8(f(x+\\delta)-f(x-\\delta))-f(x+2\\delta)+f(x-2\\delta)}{12\\delta}+ \\mathcal{O}(\\delta^4)\\\\\n",
    "Error=diff-f'(x)\\\\\n",
    "Error\\approx\\frac{f^{(5)}\\delta^4}{4}+\\frac{\\epsilon_mf(x)}{2\\delta}\n",
    "\\end{eqnarray}\n",
    "Where the first term is the order of $\\delta^4$ left from our expression of diff, and $\\epsilon_m$ is machine precision.\n",
    "By minimizing this expression, we obtain: \n",
    "\\begin{eqnarray}\n",
    "\\frac{dError}{d\\delta}=0 \\\\\n",
    "0=f^{(5)}\\delta^3-\\frac{\\epsilon_mf(x)}{\\delta^2} \\\\\n",
    "f^{(5)}\\delta^3=\\frac{\\epsilon_mf(x)}{\\delta^2} \\\\\n",
    "\\delta^5=\\frac{\\epsilon_mf(x)}{f^{(5)}} \\\\\n",
    "\\end{eqnarray}\n",
    "So if we assume that $f(x)\\approx f^{(5)}(x)$, then the ideal $\\delta$ is $\\epsilon_m^{1/5}$, or $10^{-16/5}$.\n",
    "\"\"\")"
   ]
  },
  {
   "cell_type": "markdown",
   "metadata": {},
   "source": [
    "b) (continued) Show for f(x) = exp(x) and f(x) = exp(0.01x) that your estimate of the optimal δ is at least roughly correct."
   ]
  },
  {
   "cell_type": "code",
   "execution_count": 101,
   "metadata": {},
   "outputs": [
    {
     "data": {
      "image/png": "[encoded data removed]",
      "text/plain": [
       "<Figure size 432x288 with 1 Axes>"
      ]
     },
     "metadata": {
      "needs_background": "light"
     },
     "output_type": "display_data"
    }
   ],
   "source": [
    "import numpy as np\n",
    "from matplotlib import pyplot as plt\n",
    "def firstderiv(x0,delta,fun):\n",
    "    x=(x0-2*delta,x0-delta,x0+delta,x0+2*delta)\n",
    "    y=fun(x)\n",
    "    diff1= (y[2]-y[1])\n",
    "    diff2= (y[3]-y[0])\n",
    "    firstderiv= (8*diff1 -diff2)/(12*delta)\n",
    "    return firstderiv\n",
    "     \n",
    "delta=np.linspace(10**(-5),10**(-2),100)\n",
    "optimal_delta=(10**(-16/5))\n",
    "error= abs(np.exp(5)-firstderiv(5,delta,np.exp))\n",
    "optimal_error=abs(np.exp(5)-firstderiv(5,optimal_delta,np.exp))\n",
    "plt.clf()\n",
    "plt.plot(delta,error)\n",
    "plt.plot((10**(-16/5)),optimal_error,\"*\")\n",
    "plt.show()\n",
    "\n"
   ]
  },
  {
   "cell_type": "code",
   "execution_count": 108,
   "metadata": {},
   "outputs": [
    {
     "data": {
      "image/png": "[encoded data removed]",
      "text/plain": [
       "<Figure size 432x288 with 1 Axes>"
      ]
     },
     "metadata": {
      "needs_background": "light"
     },
     "output_type": "display_data"
    }
   ],
   "source": [
    "import numpy as np\n",
    "from matplotlib import pyplot as plt\n",
    "def firstderiv(x0,delta,fun):\n",
    "    x=(x0-2*delta,x0-delta,x0+delta,x0+2*delta)\n",
    "    y=fun(x)\n",
    "    diff1= (y[2]-y[1])\n",
    "    diff2= (y[3]-y[0])\n",
    "    firstderiv= (8*diff1 -diff2)/(12*delta)\n",
    "    return firstderiv\n",
    "\n",
    "def e001(x):\n",
    "    y=np.exp(np.asarray(x)*0.01)\n",
    "    return y\n",
    "\n",
    "delta=np.linspace(10**(-5),10**(-2),100)\n",
    "optimal_delta=(10**(-16/5))\n",
    "\n",
    "exp001_A=0.01*np.exp(0.01) #analytical derivative\n",
    "exp001_B=firstderiv(1,delta,e001) #using our algorithm and optimal delta\n",
    "error2= abs(exp001_A-exp001_B)\n",
    "optimal_error2=abs(0.01*np.exp(0.01)-firstderiv(1,optimal_delta,e001))\n",
    "plt.clf()\n",
    "plt.plot(delta,error2)\n",
    "plt.plot(optimal_delta,optimal_error2,'*')\n",
    "plt.show()\n"
   ]
  },
  {
   "cell_type": "markdown",
   "metadata": {},
   "source": [
    "Problem 2:\n",
    "Write a routine that will take an arbitrary voltage and interpolate to return a temperature."
   ]
  },
  {
   "cell_type": "code",
   "execution_count": 1,
   "metadata": {},
   "outputs": [
    {
     "ename": "OSError",
     "evalue": "/Users/jmlascar/Lascar512 not found.",
     "output_type": "error",
     "traceback": [
      "\u001b[0;31m---------------------------------------------------------------------------\u001b[0m",
      "\u001b[0;31mOSError\u001b[0m                                   Traceback (most recent call last)",
      "\u001b[0;32m<ipython-input-1-f1429e05e746>\u001b[0m in \u001b[0;36m<module>\u001b[0;34m\u001b[0m\n\u001b[1;32m     15\u001b[0m \u001b[0;34m\u001b[0m\u001b[0m\n\u001b[1;32m     16\u001b[0m \u001b[0mV\u001b[0m\u001b[0;34m=\u001b[0m\u001b[0;36m1.4\u001b[0m\u001b[0;34m\u001b[0m\u001b[0;34m\u001b[0m\u001b[0m\n\u001b[0;32m---> 17\u001b[0;31m \u001b[0mT\u001b[0m\u001b[0;34m=\u001b[0m\u001b[0mtemperature\u001b[0m\u001b[0;34m(\u001b[0m\u001b[0mV\u001b[0m\u001b[0;34m)\u001b[0m\u001b[0;34m\u001b[0m\u001b[0;34m\u001b[0m\u001b[0m\n\u001b[0m\u001b[1;32m     18\u001b[0m \u001b[0;32mif\u001b[0m \u001b[0;34m(\u001b[0m\u001b[0mV\u001b[0m\u001b[0;34m<\u001b[0m\u001b[0;36m9.0681e-02\u001b[0m\u001b[0;34m)\u001b[0m \u001b[0;32mor\u001b[0m \u001b[0;34m(\u001b[0m\u001b[0mV\u001b[0m\u001b[0;34m>\u001b[0m\u001b[0;36m1.64429\u001b[0m\u001b[0;34m)\u001b[0m\u001b[0;34m:\u001b[0m\u001b[0;34m\u001b[0m\u001b[0;34m\u001b[0m\u001b[0m\n\u001b[1;32m     19\u001b[0m     \u001b[0mprint\u001b[0m\u001b[0;34m(\u001b[0m\u001b[0;34m\"A voltage of\"\u001b[0m\u001b[0;34m,\u001b[0m\u001b[0mV\u001b[0m\u001b[0;34m,\u001b[0m\u001b[0;34m\"V is outside the bounds of this interpolation.\"\u001b[0m\u001b[0;34m)\u001b[0m\u001b[0;34m\u001b[0m\u001b[0;34m\u001b[0m\u001b[0m\n",
      "\u001b[0;32m<ipython-input-1-f1429e05e746>\u001b[0m in \u001b[0;36mtemperature\u001b[0;34m(V)\u001b[0m\n\u001b[1;32m      4\u001b[0m \u001b[0;34m\u001b[0m\u001b[0m\n\u001b[1;32m      5\u001b[0m \u001b[0;32mdef\u001b[0m \u001b[0mtemperature\u001b[0m\u001b[0;34m(\u001b[0m\u001b[0mV\u001b[0m\u001b[0;34m)\u001b[0m\u001b[0;34m:\u001b[0m\u001b[0;34m\u001b[0m\u001b[0;34m\u001b[0m\u001b[0m\n\u001b[0;32m----> 6\u001b[0;31m     \u001b[0mdata\u001b[0m \u001b[0;34m=\u001b[0m \u001b[0mnp\u001b[0m\u001b[0;34m.\u001b[0m\u001b[0mloadtxt\u001b[0m\u001b[0;34m(\u001b[0m\u001b[0;34m\"/Users/jmlascar/Lascar512\"\u001b[0m\u001b[0;34m)\u001b[0m\u001b[0;34m\u001b[0m\u001b[0;34m\u001b[0m\u001b[0m\n\u001b[0m\u001b[1;32m      7\u001b[0m     \u001b[0mdata\u001b[0m \u001b[0;34m=\u001b[0m \u001b[0mnp\u001b[0m\u001b[0;34m.\u001b[0m\u001b[0mtranspose\u001b[0m\u001b[0;34m(\u001b[0m\u001b[0mdata\u001b[0m\u001b[0;34m)\u001b[0m\u001b[0;34m\u001b[0m\u001b[0;34m\u001b[0m\u001b[0m\n\u001b[1;32m      8\u001b[0m     \u001b[0mtemperature\u001b[0m\u001b[0;34m,\u001b[0m \u001b[0mvoltage\u001b[0m \u001b[0;34m=\u001b[0m \u001b[0mdata\u001b[0m\u001b[0;34m[\u001b[0m\u001b[0;36m0\u001b[0m\u001b[0;34m]\u001b[0m\u001b[0;34m,\u001b[0m \u001b[0mdata\u001b[0m\u001b[0;34m[\u001b[0m\u001b[0;36m1\u001b[0m\u001b[0;34m]\u001b[0m\u001b[0;34m\u001b[0m\u001b[0;34m\u001b[0m\u001b[0m\n",
      "\u001b[0;32m/srv/conda/envs/notebook/lib/python3.6/site-packages/numpy/lib/npyio.py\u001b[0m in \u001b[0;36mloadtxt\u001b[0;34m(fname, dtype, comments, delimiter, converters, skiprows, usecols, unpack, ndmin, encoding, max_rows)\u001b[0m\n\u001b[1;32m    966\u001b[0m             \u001b[0mfname\u001b[0m \u001b[0;34m=\u001b[0m \u001b[0mos_fspath\u001b[0m\u001b[0;34m(\u001b[0m\u001b[0mfname\u001b[0m\u001b[0;34m)\u001b[0m\u001b[0;34m\u001b[0m\u001b[0;34m\u001b[0m\u001b[0m\n\u001b[1;32m    967\u001b[0m         \u001b[0;32mif\u001b[0m \u001b[0m_is_string_like\u001b[0m\u001b[0;34m(\u001b[0m\u001b[0mfname\u001b[0m\u001b[0;34m)\u001b[0m\u001b[0;34m:\u001b[0m\u001b[0;34m\u001b[0m\u001b[0;34m\u001b[0m\u001b[0m\n\u001b[0;32m--> 968\u001b[0;31m             \u001b[0mfh\u001b[0m \u001b[0;34m=\u001b[0m \u001b[0mnp\u001b[0m\u001b[0;34m.\u001b[0m\u001b[0mlib\u001b[0m\u001b[0;34m.\u001b[0m\u001b[0m_datasource\u001b[0m\u001b[0;34m.\u001b[0m\u001b[0mopen\u001b[0m\u001b[0;34m(\u001b[0m\u001b[0mfname\u001b[0m\u001b[0;34m,\u001b[0m \u001b[0;34m'rt'\u001b[0m\u001b[0;34m,\u001b[0m \u001b[0mencoding\u001b[0m\u001b[0;34m=\u001b[0m\u001b[0mencoding\u001b[0m\u001b[0;34m)\u001b[0m\u001b[0;34m\u001b[0m\u001b[0;34m\u001b[0m\u001b[0m\n\u001b[0m\u001b[1;32m    969\u001b[0m             \u001b[0mfencoding\u001b[0m \u001b[0;34m=\u001b[0m \u001b[0mgetattr\u001b[0m\u001b[0;34m(\u001b[0m\u001b[0mfh\u001b[0m\u001b[0;34m,\u001b[0m \u001b[0;34m'encoding'\u001b[0m\u001b[0;34m,\u001b[0m \u001b[0;34m'latin1'\u001b[0m\u001b[0;34m)\u001b[0m\u001b[0;34m\u001b[0m\u001b[0;34m\u001b[0m\u001b[0m\n\u001b[1;32m    970\u001b[0m             \u001b[0mfh\u001b[0m \u001b[0;34m=\u001b[0m \u001b[0miter\u001b[0m\u001b[0;34m(\u001b[0m\u001b[0mfh\u001b[0m\u001b[0;34m)\u001b[0m\u001b[0;34m\u001b[0m\u001b[0;34m\u001b[0m\u001b[0m\n",
      "\u001b[0;32m/srv/conda/envs/notebook/lib/python3.6/site-packages/numpy/lib/_datasource.py\u001b[0m in \u001b[0;36mopen\u001b[0;34m(path, mode, destpath, encoding, newline)\u001b[0m\n\u001b[1;32m    267\u001b[0m \u001b[0;34m\u001b[0m\u001b[0m\n\u001b[1;32m    268\u001b[0m     \u001b[0mds\u001b[0m \u001b[0;34m=\u001b[0m \u001b[0mDataSource\u001b[0m\u001b[0;34m(\u001b[0m\u001b[0mdestpath\u001b[0m\u001b[0;34m)\u001b[0m\u001b[0;34m\u001b[0m\u001b[0;34m\u001b[0m\u001b[0m\n\u001b[0;32m--> 269\u001b[0;31m     \u001b[0;32mreturn\u001b[0m \u001b[0mds\u001b[0m\u001b[0;34m.\u001b[0m\u001b[0mopen\u001b[0m\u001b[0;34m(\u001b[0m\u001b[0mpath\u001b[0m\u001b[0;34m,\u001b[0m \u001b[0mmode\u001b[0m\u001b[0;34m,\u001b[0m \u001b[0mencoding\u001b[0m\u001b[0;34m=\u001b[0m\u001b[0mencoding\u001b[0m\u001b[0;34m,\u001b[0m \u001b[0mnewline\u001b[0m\u001b[0;34m=\u001b[0m\u001b[0mnewline\u001b[0m\u001b[0;34m)\u001b[0m\u001b[0;34m\u001b[0m\u001b[0;34m\u001b[0m\u001b[0m\n\u001b[0m\u001b[1;32m    270\u001b[0m \u001b[0;34m\u001b[0m\u001b[0m\n\u001b[1;32m    271\u001b[0m \u001b[0;34m\u001b[0m\u001b[0m\n",
      "\u001b[0;32m/srv/conda/envs/notebook/lib/python3.6/site-packages/numpy/lib/_datasource.py\u001b[0m in \u001b[0;36mopen\u001b[0;34m(self, path, mode, encoding, newline)\u001b[0m\n\u001b[1;32m    621\u001b[0m                                       encoding=encoding, newline=newline)\n\u001b[1;32m    622\u001b[0m         \u001b[0;32melse\u001b[0m\u001b[0;34m:\u001b[0m\u001b[0;34m\u001b[0m\u001b[0;34m\u001b[0m\u001b[0m\n\u001b[0;32m--> 623\u001b[0;31m             \u001b[0;32mraise\u001b[0m \u001b[0mIOError\u001b[0m\u001b[0;34m(\u001b[0m\u001b[0;34m\"%s not found.\"\u001b[0m \u001b[0;34m%\u001b[0m \u001b[0mpath\u001b[0m\u001b[0;34m)\u001b[0m\u001b[0;34m\u001b[0m\u001b[0;34m\u001b[0m\u001b[0m\n\u001b[0m\u001b[1;32m    624\u001b[0m \u001b[0;34m\u001b[0m\u001b[0m\n\u001b[1;32m    625\u001b[0m \u001b[0;34m\u001b[0m\u001b[0m\n",
      "\u001b[0;31mOSError\u001b[0m: /Users/jmlascar/Lascar512 not found."
     ]
    }
   ],
   "source": [
    "import numpy as np\n",
    "from matplotlib import pyplot as plt\n",
    "from scipy import interpolate\n",
    "\n",
    "def temperature(V):\n",
    "    data = np.loadtxt(\"/Users/jmlascar/Lascar512\")\n",
    "    data = np.transpose(data)\n",
    "    temperature, voltage = data[0], data[1]\n",
    "    ind=np.argsort(voltage)\n",
    "    temperature=temperature[ind]\n",
    "    voltage=voltage[ind]\n",
    "    spln=interpolate.splrep(voltage,temperature)\n",
    "    yy=interpolate.splev(V,spln)\n",
    "    return yy\n",
    "\n",
    "V=1.4\n",
    "T=temperature(V)\n",
    "if (V<9.0681e-02) or (V>1.64429):\n",
    "    print(\"A voltage of\",V,\"V is outside the bounds of this interpolation.\")\n",
    "else:\n",
    "    print(\"For a voltage of \",V,\"V the temperature is\",T,\"K.\")\n",
    "\n",
    "#estimate error \n",
    "#difference between linear fit and interpolation \n",
    "\n",
    "#just to get a nice plot:\n",
    "data = np.loadtxt(\"/Users/jmlascar/Lascar512\")\n",
    "data = np.transpose(data)\n",
    "temp, volt = data[0], data[1]\n",
    "plt.clf()\n",
    "plt.plot(volt, temp,\"*\")\n",
    "plt.plot(volt,temperature(volt))\n",
    "plt.show()"
   ]
  },
  {
   "cell_type": "code",
   "execution_count": null,
   "metadata": {},
   "outputs": [],
   "source": []
  }
 ],
 "metadata": {
  "kernelspec": {
   "display_name": "Python 3",
   "language": "python",
   "name": "python3"
  },
  "language_info": {
   "codemirror_mode": {
    "name": "ipython",
    "version": 3
   },
   "file_extension": ".py",
   "mimetype": "text/x-python",
   "name": "python",
   "nbconvert_exporter": "python",
   "pygments_lexer": "ipython3",
   "version": "3.6.7"
  }
 },
 "nbformat": 4,
 "nbformat_minor": 2
}
